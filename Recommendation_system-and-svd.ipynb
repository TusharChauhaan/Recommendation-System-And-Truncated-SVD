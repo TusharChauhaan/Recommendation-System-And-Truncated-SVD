{
 "cells": [
  {
   "cell_type": "markdown",
   "metadata": {
    "id": "YeM0ZBWUVtXR"
   },
   "source": [
    "# <font color='red'>SGD Algorithm to predict movie ratings</font>"
   ]
  },
  {
   "cell_type": "markdown",
   "metadata": {
    "id": "M2vyJqSlmmjM"
   },
   "source": [
    "**There will be some functions that start with the word \"grader\" ex: grader_matrix(), grader_mean(), grader_dim() etc, you should not change those function definition.<br><br>Every Grader function has to return True.**"
   ]
  },
  {
   "cell_type": "markdown",
   "metadata": {
    "id": "AL6njTf8WBO0"
   },
   "source": [
    "<pre>\n",
    "1. Download the data from <a href='https://drive.google.com/open?id=1-1z7iDB52cB6_JpO7Dqa-eOYSs-mivpq'> here </a>\n",
    "2. The data will be of this format, each data point is represented as a triplet of user_id, movie_id and rating \n",
    "<table>\n",
    "<tr><th>user_id</th><th>movie_id</th><th>rating</th></tr>\n",
    "<tr><td>77</td><td>236</td><td>3</td></tr>\n",
    "<tr><td>471</td><td>208</td><td>5</td></tr>\n",
    "<tr><td>641</td><td>401</td><td>4</td></tr>\n",
    "<tr><td>31</td><td>298</td><td>4</td></tr>\n",
    "<tr><td>58</td><td>504</td><td>5</td></tr>\n",
    "<tr><td>235</td><td>727</td><td>5</td></tr>\n",
    "</table>"
   ]
  },
  {
   "cell_type": "markdown",
   "metadata": {
    "id": "73dhFsT0WSSB"
   },
   "source": [
    "## <font color='red'>Task 1</font>"
   ]
  },
  {
   "cell_type": "markdown",
   "metadata": {
    "id": "HY0frS6EWaEV"
   },
   "source": [
    "<font color='red'><b>Predict the rating for a given (user_id, movie_id) pair </b> </font>\n"
   ]
  },
  {
   "cell_type": "markdown",
   "metadata": {
    "id": "R-ISYxaVbT8L"
   },
   "source": [
    "Predicted rating $\\hat{y}_{ij}$ for user i, movied j pair is calcuated as $\\hat{y}_{ij} = \\mu + b_i + c_j + u_i^T v_j$ , here we will be finding the best values of $b_{i}$ and $c_{j}$ using SGD algorithm with the optimization problem for N users and M movies is defined as"
   ]
  },
  {
   "cell_type": "markdown",
   "metadata": {
    "id": "8Aj8SXeQWlZd"
   },
   "source": [
    "$$\n",
    "L = \\min_{ b, c, \\{ u_i \\}_{i=1}^N, \\{ v_j \\}_{j=1}^M}\n",
    "\\quad\n",
    "\\alpha \\Big(\n",
    "    \\sum_{j} \\sum_{k} v_{jk}^2 \n",
    "    + \\sum_{i} \\sum_{k} u_{ik}^2 \n",
    "    + \\sum_{i} b_i^2\n",
    "    + \\sum_{j} c_i^2\n",
    "    \\Big)\n",
    "+ \\sum_{i,j \\in \\mathcal{I}^{\\text{train}}}\n",
    "    (y_{ij} - \\mu - b_i - c_j - u_i^T v_j)^2\n",
    "$$"
   ]
  },
  {
   "cell_type": "markdown",
   "metadata": {
    "id": "2Q5bnWyZXrM7"
   },
   "source": [
    "<ul>\n",
    "<li><span class=\"math\">\\(\\mu\\)</span> : scalar mean rating</li>\n",
    "<li><span class=\"math\">\\(b_i\\)</span> : scalar bias term for user <span class=\"math\">\\(i\\)</span></li>\n",
    "<li><span class=\"math\">\\(c_j\\)</span> : scalar bias term for movie <span class=\"math\">\\(j\\)</span></li>\n",
    "<li><span class=\"math\">\\(u_i\\)</span> : K-dimensional vector for user <span class=\"math\">\\(i\\)</span></li>\n",
    "<li><span class=\"math\">\\(v_j\\)</span> : K-dimensional vector for movie <span class=\"math\">\\(j\\)</span></li>\n",
    "</ul>\n",
    "\n",
    " $ \\ $\n"
   ]
  },
  {
   "cell_type": "markdown",
   "metadata": {
    "id": "q1cf4CunbEr4"
   },
   "source": [
    "\n",
    "\n",
    "\n",
    "*.  We will be giving you some functions, please write code in that functions only.\n",
    "\n",
    "*.  After every function, we will be giving you expected output, please make sure that you get that output. \n",
    "\n",
    "\n",
    "\n"
   ]
  },
  {
   "cell_type": "markdown",
   "metadata": {
    "id": "ZWQyB5hfy3u7"
   },
   "source": [
    "1. Construct adjacency matrix with the given data, assuming its graph and the weight of each edge is the rating given by user to the movie\n",
    "\n",
    "<img src='https://i.imgur.com/rmUCGMb.jpg' width=200>\n",
    "\n",
    "   you can construct this matrix like $A[i][j]=r_{ij}$ here $i$ is user_id, $j$ is movie_id and $r_{ij}$ is rating given by user $i$ to the movie $j$\n",
    "\n",
    "   Hint : you can create adjacency matrix using <a href='https://docs.scipy.org/doc/scipy/reference/generated/scipy.sparse.csr_matrix.html'> csr_matrix</a>\n",
    "\n",
    "2. We will Apply SVD decomposition on the Adjaceny matrix <a href='https://stackoverflow.com/a/31528944/4084039'>link1</a>, <a href='https://machinelearningmastery.com/singular-value-decomposition-for-machine-learning/'> link2</a> and get three matrices $U, \\sum, V$ such that $U \\times \\sum \\times V^T = A$, <br> \n",
    "if $A$ is of dimensions $N \\times M$ then <br>\n",
    "U is of $N \\times k$, <br>\n",
    "$\\sum$ is of $k \\times k$ and <br>\n",
    "$V$ is $M \\times k$ dimensions. <br>\n",
    "\n",
    "   *.  So the matrix $U$ can be represented as matrix representation of users, where each row $u_{i}$ represents a k-dimensional vector for a user\n",
    "\n",
    "   *. So the matrix $V$ can be represented as matrix representation of movies, where each row $v_{j}$ represents a k-dimensional vector for a movie.\n",
    "3. Compute $\\mu$ , $\\mu$  represents the mean of all the rating given in the dataset.(write your code in <font color='blue'>def m_u()</font>)\n",
    "4. For each unique user initilize a bias value $B_{i}$ to zero, so if we have $N$ users $B$ will be a $N$ dimensional vector, the $i^{th}$ value of the $B$ will corresponds to the bias term for $i^{th}$ user (write your code in <font color='blue'>def initialize()</font>)\n",
    "\n",
    "5. For each unique movie initilize a bias value $C_{j}$ zero, so if we have $M$ movies $C$ will be a $M$ dimensional vector, the $j^{th}$ value of the $C$ will corresponds to the bias term for $j^{th}$ movie (write your code in <font color='blue'>def initialize()</font>)\n",
    "\n",
    "6. Compute dL/db_i (Write you code in <font color='blue'> def derivative_db()</font>)\n",
    "7. Compute dL/dc_j(write your code in <font color='blue'> def derivative_dc()</font>\n",
    "\n",
    "8. Print the mean squared error with predicted ratings.\n",
    "\n",
    "<pre>\n",
    "for each epoch:\n",
    "    for each pair of (user, movie):\n",
    "        b_i =  b_i - learning_rate * dL/db_i\n",
    "        c_j =  c_j - learning_rate * dL/dc_j\n",
    "predict the ratings with formula\n",
    "</pre>\n",
    "$\\hat{y}_{ij} = \\mu + b_i + c_j + \\text{dot_product}(u_i , v_j) $\n",
    "\n",
    "9. you can choose any learning rate and regularization term in the range $10^{-3}  \\text{ to } 10^2$  <br>\n",
    "  \n",
    "10. __bonus__: instead of using SVD decomposition you can learn the vectors $u_i$, $v_j$ with the help of SGD algo similar to $b_i$ and $c_j$ "
   ]
  },
  {
   "cell_type": "markdown",
   "metadata": {
    "id": "IP_6xMAZA4mE"
   },
   "source": [
    " # <font color='red'>Task 2 </font>"
   ]
  },
  {
   "cell_type": "markdown",
   "metadata": {
    "id": "-9HCN_3WA2au"
   },
   "source": [
    "As we know U is the learned matrix of user vectors, with its i-th row as the vector ui for user i. Each row of U can be seen as a \"feature vector\" for a particular user.\n",
    "\n",
    "The question we'd like to investigate is this: do our computed per-user features that are optimized for predicting movie ratings contain anything to do with gender?\n",
    "\n",
    "The provided data file <a href='https://drive.google.com/open?id=1PHFdJh_4gIPiLH5Q4UErH8GK71hTrzlY'>user_info.csv</a> contains an is_male column indicating which users in the dataset are male. Can you predict this signal given the features U?\n",
    "\n",
    "\n",
    "> __Note 1__ : there is no train test split in the data, the goal of this assignment is to give an intution about how to do matrix factorization with the help of SGD and application of truncated SVD. for better understanding of the collabarative fillerting please check netflix case study. <br><br>\n",
    "> __Note 2__ : Check if scaling of $U$, $V$ matrices improve the metric "
   ]
  },
  {
   "cell_type": "markdown",
   "metadata": {
    "id": "ovFCo1JCBIXM"
   },
   "source": [
    "<br>\n",
    "\n",
    "\n",
    "<br>"
   ]
  },
  {
   "cell_type": "markdown",
   "metadata": {
    "id": "iVJo-3njBQLf"
   },
   "source": [
    "<font color='red'> Reading the csv file </font>"
   ]
  },
  {
   "cell_type": "code",
   "execution_count": 1,
   "metadata": {
    "colab": {
     "base_uri": "https://localhost:8080/",
     "height": 206
    },
    "id": "hEhmfRD637EW",
    "outputId": "070ae100-e4a4-421b-998c-6e98c5050c81"
   },
   "outputs": [
    {
     "data": {
      "text/html": [
       "\n",
       "  <div id=\"df-fe0a12fb-5fc1-403f-a44b-7cced47496ab\">\n",
       "    <div class=\"colab-df-container\">\n",
       "      <div>\n",
       "<style scoped>\n",
       "    .dataframe tbody tr th:only-of-type {\n",
       "        vertical-align: middle;\n",
       "    }\n",
       "\n",
       "    .dataframe tbody tr th {\n",
       "        vertical-align: top;\n",
       "    }\n",
       "\n",
       "    .dataframe thead th {\n",
       "        text-align: right;\n",
       "    }\n",
       "</style>\n",
       "<table border=\"1\" class=\"dataframe\">\n",
       "  <thead>\n",
       "    <tr style=\"text-align: right;\">\n",
       "      <th></th>\n",
       "      <th>user_id</th>\n",
       "      <th>item_id</th>\n",
       "      <th>rating</th>\n",
       "    </tr>\n",
       "  </thead>\n",
       "  <tbody>\n",
       "    <tr>\n",
       "      <th>0</th>\n",
       "      <td>772</td>\n",
       "      <td>36</td>\n",
       "      <td>3</td>\n",
       "    </tr>\n",
       "    <tr>\n",
       "      <th>1</th>\n",
       "      <td>471</td>\n",
       "      <td>228</td>\n",
       "      <td>5</td>\n",
       "    </tr>\n",
       "    <tr>\n",
       "      <th>2</th>\n",
       "      <td>641</td>\n",
       "      <td>401</td>\n",
       "      <td>4</td>\n",
       "    </tr>\n",
       "    <tr>\n",
       "      <th>3</th>\n",
       "      <td>312</td>\n",
       "      <td>98</td>\n",
       "      <td>4</td>\n",
       "    </tr>\n",
       "    <tr>\n",
       "      <th>4</th>\n",
       "      <td>58</td>\n",
       "      <td>504</td>\n",
       "      <td>5</td>\n",
       "    </tr>\n",
       "  </tbody>\n",
       "</table>\n",
       "</div>\n",
       "      <button class=\"colab-df-convert\" onclick=\"convertToInteractive('df-fe0a12fb-5fc1-403f-a44b-7cced47496ab')\"\n",
       "              title=\"Convert this dataframe to an interactive table.\"\n",
       "              style=\"display:none;\">\n",
       "        \n",
       "  <svg xmlns=\"http://www.w3.org/2000/svg\" height=\"24px\"viewBox=\"0 0 24 24\"\n",
       "       width=\"24px\">\n",
       "    <path d=\"M0 0h24v24H0V0z\" fill=\"none\"/>\n",
       "    <path d=\"M18.56 5.44l.94 2.06.94-2.06 2.06-.94-2.06-.94-.94-2.06-.94 2.06-2.06.94zm-11 1L8.5 8.5l.94-2.06 2.06-.94-2.06-.94L8.5 2.5l-.94 2.06-2.06.94zm10 10l.94 2.06.94-2.06 2.06-.94-2.06-.94-.94-2.06-.94 2.06-2.06.94z\"/><path d=\"M17.41 7.96l-1.37-1.37c-.4-.4-.92-.59-1.43-.59-.52 0-1.04.2-1.43.59L10.3 9.45l-7.72 7.72c-.78.78-.78 2.05 0 2.83L4 21.41c.39.39.9.59 1.41.59.51 0 1.02-.2 1.41-.59l7.78-7.78 2.81-2.81c.8-.78.8-2.07 0-2.86zM5.41 20L4 18.59l7.72-7.72 1.47 1.35L5.41 20z\"/>\n",
       "  </svg>\n",
       "      </button>\n",
       "      \n",
       "  <style>\n",
       "    .colab-df-container {\n",
       "      display:flex;\n",
       "      flex-wrap:wrap;\n",
       "      gap: 12px;\n",
       "    }\n",
       "\n",
       "    .colab-df-convert {\n",
       "      background-color: #E8F0FE;\n",
       "      border: none;\n",
       "      border-radius: 50%;\n",
       "      cursor: pointer;\n",
       "      display: none;\n",
       "      fill: #1967D2;\n",
       "      height: 32px;\n",
       "      padding: 0 0 0 0;\n",
       "      width: 32px;\n",
       "    }\n",
       "\n",
       "    .colab-df-convert:hover {\n",
       "      background-color: #E2EBFA;\n",
       "      box-shadow: 0px 1px 2px rgba(60, 64, 67, 0.3), 0px 1px 3px 1px rgba(60, 64, 67, 0.15);\n",
       "      fill: #174EA6;\n",
       "    }\n",
       "\n",
       "    [theme=dark] .colab-df-convert {\n",
       "      background-color: #3B4455;\n",
       "      fill: #D2E3FC;\n",
       "    }\n",
       "\n",
       "    [theme=dark] .colab-df-convert:hover {\n",
       "      background-color: #434B5C;\n",
       "      box-shadow: 0px 1px 3px 1px rgba(0, 0, 0, 0.15);\n",
       "      filter: drop-shadow(0px 1px 2px rgba(0, 0, 0, 0.3));\n",
       "      fill: #FFFFFF;\n",
       "    }\n",
       "  </style>\n",
       "\n",
       "      <script>\n",
       "        const buttonEl =\n",
       "          document.querySelector('#df-fe0a12fb-5fc1-403f-a44b-7cced47496ab button.colab-df-convert');\n",
       "        buttonEl.style.display =\n",
       "          google.colab.kernel.accessAllowed ? 'block' : 'none';\n",
       "\n",
       "        async function convertToInteractive(key) {\n",
       "          const element = document.querySelector('#df-fe0a12fb-5fc1-403f-a44b-7cced47496ab');\n",
       "          const dataTable =\n",
       "            await google.colab.kernel.invokeFunction('convertToInteractive',\n",
       "                                                     [key], {});\n",
       "          if (!dataTable) return;\n",
       "\n",
       "          const docLinkHtml = 'Like what you see? Visit the ' +\n",
       "            '<a target=\"_blank\" href=https://colab.research.google.com/notebooks/data_table.ipynb>data table notebook</a>'\n",
       "            + ' to learn more about interactive tables.';\n",
       "          element.innerHTML = '';\n",
       "          dataTable['output_type'] = 'display_data';\n",
       "          await google.colab.output.renderOutput(dataTable, element);\n",
       "          const docLink = document.createElement('div');\n",
       "          docLink.innerHTML = docLinkHtml;\n",
       "          element.appendChild(docLink);\n",
       "        }\n",
       "      </script>\n",
       "    </div>\n",
       "  </div>\n",
       "  "
      ],
      "text/plain": [
       "   user_id  item_id  rating\n",
       "0      772       36       3\n",
       "1      471      228       5\n",
       "2      641      401       4\n",
       "3      312       98       4\n",
       "4       58      504       5"
      ]
     },
     "execution_count": 1,
     "metadata": {},
     "output_type": "execute_result"
    }
   ],
   "source": [
    "import pandas as pd\n",
    "data=pd.read_csv('ratings_train.csv')\n",
    "data.head()"
   ]
  },
  {
   "cell_type": "code",
   "execution_count": 2,
   "metadata": {
    "colab": {
     "base_uri": "https://localhost:8080/"
    },
    "id": "rwx21rRnEbO4",
    "outputId": "fba84322-1c6c-46c3-c630-9d33076692ce"
   },
   "outputs": [
    {
     "data": {
      "text/plain": [
       "0"
      ]
     },
     "execution_count": 2,
     "metadata": {},
     "output_type": "execute_result"
    }
   ],
   "source": [
    "min(data['user_id'])"
   ]
  },
  {
   "cell_type": "code",
   "execution_count": 3,
   "metadata": {
    "colab": {
     "base_uri": "https://localhost:8080/"
    },
    "id": "66ibGJ74hCde",
    "outputId": "7ed647fc-7c85-4cc8-e7be-b4f17adb6d9c"
   },
   "outputs": [
    {
     "data": {
      "text/plain": [
       "(89992, 3)"
      ]
     },
     "execution_count": 3,
     "metadata": {},
     "output_type": "execute_result"
    }
   ],
   "source": [
    "data.shape"
   ]
  },
  {
   "cell_type": "markdown",
   "metadata": {
    "id": "mvB8SDS_hW03"
   },
   "source": [
    "<font color='red'>Create your adjacency matrix </font>"
   ]
  },
  {
   "cell_type": "code",
   "execution_count": 4,
   "metadata": {
    "id": "t44MNT40hZQW"
   },
   "outputs": [],
   "source": [
    "from scipy.sparse import csr_matrix\n",
    "adjacency_matrix = csr_matrix((data['rating'], (data['user_id'], data['item_id'])))"
   ]
  },
  {
   "cell_type": "code",
   "execution_count": 5,
   "metadata": {
    "colab": {
     "base_uri": "https://localhost:8080/"
    },
    "id": "-mCgC0WbhZTO",
    "outputId": "cabd5bfb-a753-474f-bb52-aa7c68759fd0"
   },
   "outputs": [
    {
     "data": {
      "text/plain": [
       "(943, 1681)"
      ]
     },
     "execution_count": 5,
     "metadata": {},
     "output_type": "execute_result"
    }
   ],
   "source": [
    "adjacency_matrix.shape"
   ]
  },
  {
   "cell_type": "markdown",
   "metadata": {
    "id": "4acJD4ujEtD6"
   },
   "source": [
    "<font color='cyan'>Grader function - 1</font>"
   ]
  },
  {
   "cell_type": "code",
   "execution_count": 6,
   "metadata": {
    "colab": {
     "base_uri": "https://localhost:8080/"
    },
    "id": "2QuTzFBREsDV",
    "outputId": "6b5e7d2d-b228-4feb-d576-fbea7c4dfaf6"
   },
   "outputs": [
    {
     "data": {
      "text/plain": [
       "True"
      ]
     },
     "execution_count": 6,
     "metadata": {},
     "output_type": "execute_result"
    }
   ],
   "source": [
    "def grader_matrix(matrix):\n",
    "  assert(matrix.shape==(943,1681))\n",
    "  return True\n",
    "grader_matrix(adjacency_matrix)"
   ]
  },
  {
   "cell_type": "markdown",
   "metadata": {
    "id": "U7VwkRNeHpWE"
   },
   "source": [
    "**The unique items in the given csv file are 1662 only . But the id's vary from 0-1681 but they are not continuous and hence \n",
    "you'll get matrix of size 943x1681.**"
   ]
  },
  {
   "cell_type": "markdown",
   "metadata": {
    "id": "gXDf1RCUBsYN"
   },
   "source": [
    "<font color='red'> SVD decompostion</font>"
   ]
  },
  {
   "cell_type": "markdown",
   "metadata": {
    "id": "OJPWI9VwD_ih"
   },
   "source": [
    "Sample code for SVD decompostion"
   ]
  },
  {
   "cell_type": "code",
   "execution_count": 7,
   "metadata": {
    "colab": {
     "base_uri": "https://localhost:8080/"
    },
    "id": "GATD35bmBszc",
    "outputId": "61cd78df-1448-4eeb-986c-ae28e0807c55"
   },
   "outputs": [
    {
     "name": "stdout",
     "output_type": "stream",
     "text": [
      "(20, 5)\n",
      "(5,)\n",
      "(10, 5)\n"
     ]
    }
   ],
   "source": [
    "from sklearn.utils.extmath import randomized_svd\n",
    "import numpy as np \n",
    "matrix = np.random.random((20, 10))\n",
    "U, Sigma, VT = randomized_svd(matrix, n_components=5,n_iter=5, random_state=None)\n",
    "print(U.shape)\n",
    "print(Sigma.shape)\n",
    "print(VT.T.shape)"
   ]
  },
  {
   "cell_type": "markdown",
   "metadata": {
    "id": "ePDgwALQEJoB"
   },
   "source": [
    "<font color='red'>Write your code for SVD decompostion</font>"
   ]
  },
  {
   "cell_type": "code",
   "execution_count": 8,
   "metadata": {
    "id": "ZYnsKBmFEIg3"
   },
   "outputs": [],
   "source": [
    "# Please use adjacency_matrix as matrix for SVD decompostion\n",
    "# You can choose n_components as your choice\n",
    "from sklearn.utils.extmath import randomized_svd\n",
    "\n",
    "U, Sigma, VT = randomized_svd(adjacency_matrix, \n",
    "                              n_components=150,\n",
    "                              n_iter=500,\n",
    "                              random_state=None)"
   ]
  },
  {
   "cell_type": "markdown",
   "metadata": {
    "id": "83Vh4NoO_JyU"
   },
   "source": [
    "<font color='red'>Compute mean of ratings</font>"
   ]
  },
  {
   "cell_type": "code",
   "execution_count": 9,
   "metadata": {
    "id": "cBHuCn2QSEnl"
   },
   "outputs": [],
   "source": [
    "def m_u(data):\n",
    "  return data['rating'].mean()"
   ]
  },
  {
   "cell_type": "markdown",
   "metadata": {
    "id": "76ooYQIdG_tf"
   },
   "source": [
    "<font color='cyan'>Grader function -2 </font>"
   ]
  },
  {
   "cell_type": "code",
   "execution_count": 10,
   "metadata": {
    "colab": {
     "base_uri": "https://localhost:8080/"
    },
    "id": "TZy1m67oG9r9",
    "outputId": "b72281a8-dd72-4b1d-e5db-14688f236a6e"
   },
   "outputs": [
    {
     "data": {
      "text/plain": [
       "True"
      ]
     },
     "execution_count": 10,
     "metadata": {},
     "output_type": "execute_result"
    }
   ],
   "source": [
    "def grader_mean(mu):\n",
    "  assert(np.round(mu,3)==3.529)\n",
    "  return True\n",
    "mu=m_u(data)\n",
    "grader_mean(mu)"
   ]
  },
  {
   "cell_type": "markdown",
   "metadata": {
    "id": "qSvAW1X94g3G"
   },
   "source": [
    "<font color='red'>Initialize $B_{i}$ and $C_{j}$"
   ]
  },
  {
   "cell_type": "markdown",
   "metadata": {
    "id": "qsOl-4xq5aUG"
   },
   "source": [
    "Hint : Number of rows of adjacent matrix corresponds to user dimensions($B_{i}$), number of columns of adjacent matrix corresponds to movie dimensions ($C_{j}$)"
   ]
  },
  {
   "cell_type": "code",
   "execution_count": 32,
   "metadata": {
    "colab": {
     "base_uri": "https://localhost:8080/"
    },
    "id": "DbbYTZw9GjdY",
    "outputId": "45f57f77-d938-40ef-98b1-3c0322bfef04"
   },
   "outputs": [
    {
     "name": "stdout",
     "output_type": "stream",
     "text": [
      "(943,) (1681,)\n"
     ]
    }
   ],
   "source": [
    "b=[]\n",
    "c=[]\n",
    "def initialize(b,c):\n",
    "  b=np.zeros(adjacency_matrix.shape[0])\n",
    "  c=np.zeros(adjacency_matrix.shape[1])\n",
    "  return b,c\n",
    "b,c=initialize(b,c)\n",
    "print(b.shape,c.shape)"
   ]
  },
  {
   "cell_type": "markdown",
   "metadata": {
    "id": "nfPJ3_h6JIkI"
   },
   "source": [
    "<font color='cyan'>Grader function -3 </font>"
   ]
  },
  {
   "cell_type": "code",
   "execution_count": 12,
   "metadata": {
    "colab": {
     "base_uri": "https://localhost:8080/"
    },
    "id": "dQhiNjw0Hz4m",
    "outputId": "9de89fc3-7950-4ce8-f399-eb8df49f2497"
   },
   "outputs": [
    {
     "data": {
      "text/plain": [
       "True"
      ]
     },
     "execution_count": 12,
     "metadata": {},
     "output_type": "execute_result"
    }
   ],
   "source": [
    "def grader_dim(b_i,c_j):\n",
    "  assert(len(b_i)==943 and np.sum(b_i)==0)\n",
    "  assert(len(c_j)==1681 and np.sum(c_j)==0)\n",
    "  return True\n",
    "grader_dim(b,c)"
   ]
  },
  {
   "cell_type": "markdown",
   "metadata": {
    "id": "DTDK4ZR18MrZ"
   },
   "source": [
    "<font color='red'>Compute dL/db_i</font>"
   ]
  },
  {
   "cell_type": "code",
   "execution_count": 13,
   "metadata": {
    "id": "3NFzVC1N8S4L"
   },
   "outputs": [],
   "source": [
    "def derivative_db(user_id,item_id,rating,U,V,mu,alpha,b_i=np.zeros(adjacency_matrix.shape[0]),c_j=np.zeros(adjacency_matrix.shape[1])):\n",
    "    '''In this function, we will compute dL/db_i'''\n",
    "    loss =  (2*(alpha+1)*b_i[user_id]) - 2*(rating - mu - b_i[user_id] - c_j[item_id] - np.dot(U[user_id],V[:,item_id].T))\n",
    "    return loss"
   ]
  },
  {
   "cell_type": "markdown",
   "metadata": {
    "id": "ilISrTeQ0f0v"
   },
   "source": [
    "<font color='cyan'>Grader function -4 </font>"
   ]
  },
  {
   "cell_type": "code",
   "execution_count": 14,
   "metadata": {
    "colab": {
     "base_uri": "https://localhost:8080/"
    },
    "id": "Wt5ixEVZ043U",
    "outputId": "2d8f719c-cea7-4baf-9b6e-7b82b0b59d51"
   },
   "outputs": [
    {
     "data": {
      "text/plain": [
       "True"
      ]
     },
     "execution_count": 14,
     "metadata": {},
     "output_type": "execute_result"
    }
   ],
   "source": [
    "def grader_db(value):\n",
    "    assert(np.round(value,3)==-0.931)\n",
    "    return True\n",
    "U1, Sigma, V1 = randomized_svd(adjacency_matrix, n_components=2,n_iter=5, random_state=24)\n",
    "# Please don't change random state\n",
    "# Here we are considering n_componets = 2 for our convinence\n",
    "alpha=0.01 \n",
    "mu=m_u(data)\n",
    "value=derivative_db(312,98,4,U1,V1,mu,alpha)\n",
    "grader_db(value)"
   ]
  },
  {
   "cell_type": "markdown",
   "metadata": {
    "id": "1Kp0hC_b9v60"
   },
   "source": [
    "<font color='red'>Compute dL/dc_j</font>"
   ]
  },
  {
   "cell_type": "code",
   "execution_count": 15,
   "metadata": {
    "id": "FAtSYMrc9UqJ"
   },
   "outputs": [],
   "source": [
    "def derivative_dc(user_id,item_id,rating,U,V,mu,alpha,b_i=np.zeros(adjacency_matrix.shape[0]),c_j=np.zeros(adjacency_matrix.shape[1])):\n",
    "    '''In this function, we will compute dL/dc_j'''\n",
    "    loss =  (2*(alpha+1)*c_j[item_id]) - 2*(rating - mu - b_i[user_id] - c_j[item_id] - np.dot(U[user_id],V[:,item_id].T))\n",
    "    return loss  "
   ]
  },
  {
   "cell_type": "markdown",
   "metadata": {
    "id": "lxkAm8aH1SBF"
   },
   "source": [
    "<font color='cyan'>Grader function - 5 </font>"
   ]
  },
  {
   "cell_type": "code",
   "execution_count": 16,
   "metadata": {
    "colab": {
     "base_uri": "https://localhost:8080/"
    },
    "id": "RaIN9yie1US8",
    "outputId": "389c44ed-1b9c-4986-cc7e-2e0aeca0f38d"
   },
   "outputs": [
    {
     "data": {
      "text/plain": [
       "True"
      ]
     },
     "execution_count": 16,
     "metadata": {},
     "output_type": "execute_result"
    }
   ],
   "source": [
    "def grader_dc(value):\n",
    "    assert(np.round(value,3)==-2.929)\n",
    "    return True\n",
    "U1, Sigma, V1 = randomized_svd(adjacency_matrix, n_components=2,n_iter=5, random_state=24)\n",
    "# Please don't change random state\n",
    "# Here we are considering n_componets = 2 for our convinence\n",
    "r=0.01 \n",
    "value=derivative_dc(58,504,5,U1,V1,mu,0.01)\n",
    "grader_dc(value)"
   ]
  },
  {
   "cell_type": "markdown",
   "metadata": {
    "id": "lg5XNbDWCIKI"
   },
   "source": [
    "<font color='red'>Compute MSE (mean squared error) for predicted ratings</font>\n"
   ]
  },
  {
   "cell_type": "markdown",
   "metadata": {
    "id": "7WUjNy0TDQX6"
   },
   "source": [
    "for each epoch, print the MSE value"
   ]
  },
  {
   "cell_type": "markdown",
   "metadata": {
    "id": "D2pCy1AKCafw"
   },
   "source": [
    "<pre>\n",
    "for each epoch:\n",
    "\n",
    "    for each pair of (user, movie):\n",
    "\n",
    "        b_i =  b_i - learning_rate * dL/db_i\n",
    "\n",
    "        c_j =  c_j - learning_rate * dL/dc_j\n",
    "\n",
    "predict the ratings with formula\n",
    "</pre>\n",
    "\n",
    "$\\hat{y}_{ij} = \\mu + b_i + c_j + \\text{dot_product}(u_i , v_j) $"
   ]
  },
  {
   "cell_type": "code",
   "execution_count": 17,
   "metadata": {
    "id": "bYP4D9nAzGNP"
   },
   "outputs": [],
   "source": [
    "from sklearn.metrics import mean_squared_error as mse\n",
    "def get_prediction(b_i,c_j,mu,df=data):\n",
    "    '''calculates net rmse'''\n",
    "    y_true = []\n",
    "    y_pred = []\n",
    "    for user,movie,rate in df[['user_id','item_id','rating']].values:\n",
    "        try:\n",
    "            y_hat = mu + b_i[user] + c_j[movie] + np.dot(U[user],VT[:,movie].T)\n",
    "        except:\n",
    "            # handling cold start problem assigning global average for test users/movies not in training set\n",
    "            y_hat = mu\n",
    "        y_true.append(rate)\n",
    "        y_pred.append(y_hat)\n",
    "    return mse(y_true,y_pred) "
   ]
  },
  {
   "cell_type": "code",
   "execution_count": 18,
   "metadata": {
    "id": "kiKj-M6d2a-Y"
   },
   "outputs": [],
   "source": [
    "from tqdm import tqdm\n",
    "def my_SGD(X, lr, alpha, u_mat, v_mat, epoch=30):\n",
    "    mu = m_u(data)\n",
    "    errors=[]\n",
    "    for i in tqdm(range(epoch)):\n",
    "        for user, movie, rating in zip(X.user_id.values, X.item_id.values, X.rating.values):\n",
    "          b[user]=b[user] - lr * derivative_db(user,movie,rating,u_mat,v_mat,mu,alpha,b,c)\n",
    "          c[movie]=c[movie] - lr * derivative_dc(user,movie,rating,u_mat,v_mat,mu,alpha,b,c)\n",
    "        error=get_prediction(b,c,mu)\n",
    "        errors.append(error)\n",
    "        # print('epoch: {0}, mse: {1} '.format(i+1, error))  \n",
    "    return errors"
   ]
  },
  {
   "cell_type": "markdown",
   "metadata": {
    "id": "hTXYZFFUVSg5"
   },
   "source": [
    "<font color='red'>Plot epoch number vs MSE </font>\n",
    "\n",
    "* epoch number on X-axis\n",
    "* MSE on Y-axis"
   ]
  },
  {
   "cell_type": "code",
   "execution_count": 19,
   "metadata": {
    "colab": {
     "base_uri": "https://localhost:8080/",
     "height": 296
    },
    "id": "igkkO3EvVRt6",
    "outputId": "7d32a730-e5d8-4bf5-8f1f-bb14cced74bb"
   },
   "outputs": [
    {
     "name": "stderr",
     "output_type": "stream",
     "text": [
      "100%|██████████| 30/30 [01:06<00:00,  2.23s/it]\n"
     ]
    },
    {
     "data": {
      "image/png": "[encoded data removed]",
      "text/plain": [
       "<Figure size 432x288 with 1 Axes>"
      ]
     },
     "metadata": {
      "needs_background": "light"
     },
     "output_type": "display_data"
    }
   ],
   "source": [
    "epoch=30\n",
    "my_errors = my_SGD(data, 0.0001,0.0001, U, VT,epoch)\n",
    "import numpy as np\n",
    "import matplotlib.pyplot as plt\n",
    "x = np.arange(1,epoch+1)\n",
    "y = my_errors\n",
    "plt.plot(x, y)\n",
    "plt.xlabel(\"Epoch Number\")\n",
    "plt.ylabel(\"MSE Error\")\n",
    "plt.show()"
   ]
  },
  {
   "cell_type": "code",
   "execution_count": 20,
   "metadata": {
    "colab": {
     "base_uri": "https://localhost:8080/"
    },
    "id": "6HHY7YoD_yFf",
    "outputId": "ff819327-a040-4f21-b943-85227bd4a271"
   },
   "outputs": [
    {
     "data": {
      "text/plain": [
       "1.0082470622551105"
      ]
     },
     "execution_count": 20,
     "metadata": {},
     "output_type": "execute_result"
    }
   ],
   "source": [
    "min(my_errors)   #0.9318217355323781  1.008296586000108"
   ]
  },
  {
   "cell_type": "code",
   "execution_count": 21,
   "metadata": {
    "colab": {
     "base_uri": "https://localhost:8080/"
    },
    "id": "rFs9ZGS2_2i8",
    "outputId": "dc1aefb3-6ee2-4d7e-db09-b8e052d098ca"
   },
   "outputs": [
    {
     "data": {
      "text/plain": [
       "1.2150887920169118"
      ]
     },
     "execution_count": 21,
     "metadata": {},
     "output_type": "execute_result"
    }
   ],
   "source": [
    "max(my_errors)"
   ]
  },
  {
   "cell_type": "code",
   "execution_count": 22,
   "metadata": {
    "colab": {
     "base_uri": "https://localhost:8080/"
    },
    "id": "PhBXghOiA4k2",
    "outputId": "a222c5ae-2057-4a5c-be94-872f2db07ad0"
   },
   "outputs": [
    {
     "data": {
      "text/plain": [
       "1.0082470622551105"
      ]
     },
     "execution_count": 22,
     "metadata": {},
     "output_type": "execute_result"
    }
   ],
   "source": [
    "my_errors[29]"
   ]
  },
  {
   "cell_type": "markdown",
   "metadata": {
    "id": "Pxw_ra8OKWU1"
   },
   "source": [
    "### Before Running the code run the code block for initialisation of b,c."
   ]
  },
  {
   "cell_type": "code",
   "execution_count": 33,
   "metadata": {
    "colab": {
     "base_uri": "https://localhost:8080/",
     "height": 296
    },
    "id": "FBXtDC4cI-mw",
    "outputId": "c5dd63d1-a2fa-4fb9-b637-3cd1f5115d8d"
   },
   "outputs": [
    {
     "name": "stderr",
     "output_type": "stream",
     "text": [
      "100%|██████████| 100/100 [03:56<00:00,  2.37s/it]\n"
     ]
    },
    {
     "data": {
      "image/png": "[encoded data removed]",
      "text/plain": [
       "<Figure size 432x288 with 1 Axes>"
      ]
     },
     "metadata": {
      "needs_background": "light"
     },
     "output_type": "display_data"
    }
   ],
   "source": [
    "epoch=100\n",
    "my_errors = my_SGD(data, 0.0001,0.0001, U, VT,epoch)\n",
    "import numpy as np\n",
    "import matplotlib.pyplot as plt\n",
    "x = np.arange(1,epoch+1)\n",
    "y = my_errors\n",
    "plt.plot(x, y)\n",
    "plt.xlabel(\"Epoch Number\")\n",
    "plt.ylabel(\"MSE Error\")\n",
    "plt.show()"
   ]
  },
  {
   "cell_type": "code",
   "execution_count": 34,
   "metadata": {
    "colab": {
     "base_uri": "https://localhost:8080/"
    },
    "id": "o3oLnVIxJprE",
    "outputId": "980f4be9-40aa-470d-d651-3f56d663fa92"
   },
   "outputs": [
    {
     "data": {
      "text/plain": [
       "0.954482225173638"
      ]
     },
     "execution_count": 34,
     "metadata": {},
     "output_type": "execute_result"
    }
   ],
   "source": [
    "min(my_errors) "
   ]
  },
  {
   "cell_type": "code",
   "execution_count": 35,
   "metadata": {
    "colab": {
     "base_uri": "https://localhost:8080/"
    },
    "id": "4sJXmUXDJrRG",
    "outputId": "a6f6a30e-b501-41b6-bb85-ae3e29a5f3f7"
   },
   "outputs": [
    {
     "data": {
      "text/plain": [
       "1.2150887920169118"
      ]
     },
     "execution_count": 35,
     "metadata": {},
     "output_type": "execute_result"
    }
   ],
   "source": [
    "max(my_errors)"
   ]
  },
  {
   "cell_type": "code",
   "execution_count": 36,
   "metadata": {
    "colab": {
     "base_uri": "https://localhost:8080/"
    },
    "id": "ONsSnmR8KKqt",
    "outputId": "c75669e6-2b26-4cc9-e4ce-8be3d8495a88"
   },
   "outputs": [
    {
     "data": {
      "text/plain": [
       "1.0082470622551105"
      ]
     },
     "execution_count": 36,
     "metadata": {},
     "output_type": "execute_result"
    }
   ],
   "source": [
    "my_errors[29]"
   ]
  },
  {
   "cell_type": "markdown",
   "metadata": {
    "id": "DBIpyhYa5UHS"
   },
   "source": [
    "# Observation from the graph\n",
    "#### First the b_i and c_j from random value reached to the value which provided minimum mse then due to constant changing of b_i and c_j the mse kept on increasing after reaching minima.\n",
    "\n"
   ]
  },
  {
   "cell_type": "markdown",
   "metadata": {
    "id": "lkIQOOo1C9o7"
   },
   "source": [
    "# <font color='red'> Task 2</font>"
   ]
  },
  {
   "cell_type": "markdown",
   "metadata": {
    "id": "9kl4Ryi_7E_T"
   },
   "source": [
    "- For this task you have to consider the user_matrix U and the user_info.csv file.\n",
    "- You have to consider is_male columns as  output features and rest as input features. Now you have to fit a model by posing this problem as binary classification task.\n",
    "- You can apply any model like Logistic regression or Decision tree and check the performance of the model. \n",
    "- Do plot confusion matrix after fitting your model and write your observations how your model is performing in this task.\n",
    "\n",
    "- Optional work- You can try scaling your U matrix.Scaling means changing the values of n_componenets while performing svd\n",
    "  and then check your results."
   ]
  },
  {
   "cell_type": "code",
   "execution_count": 23,
   "metadata": {
    "colab": {
     "base_uri": "https://localhost:8080/",
     "height": 206
    },
    "id": "c1FTc39gDdti",
    "outputId": "b9440c93-1cc4-426a-94b3-559dab3366c6"
   },
   "outputs": [
    {
     "data": {
      "text/html": [
       "\n",
       "  <div id=\"df-a12ae05e-3fb3-4404-a094-2b92d031d35a\">\n",
       "    <div class=\"colab-df-container\">\n",
       "      <div>\n",
       "<style scoped>\n",
       "    .dataframe tbody tr th:only-of-type {\n",
       "        vertical-align: middle;\n",
       "    }\n",
       "\n",
       "    .dataframe tbody tr th {\n",
       "        vertical-align: top;\n",
       "    }\n",
       "\n",
       "    .dataframe thead th {\n",
       "        text-align: right;\n",
       "    }\n",
       "</style>\n",
       "<table border=\"1\" class=\"dataframe\">\n",
       "  <thead>\n",
       "    <tr style=\"text-align: right;\">\n",
       "      <th></th>\n",
       "      <th>user_id</th>\n",
       "      <th>age</th>\n",
       "      <th>is_male</th>\n",
       "      <th>orig_user_id</th>\n",
       "    </tr>\n",
       "  </thead>\n",
       "  <tbody>\n",
       "    <tr>\n",
       "      <th>0</th>\n",
       "      <td>0</td>\n",
       "      <td>24</td>\n",
       "      <td>1</td>\n",
       "      <td>1</td>\n",
       "    </tr>\n",
       "    <tr>\n",
       "      <th>1</th>\n",
       "      <td>1</td>\n",
       "      <td>53</td>\n",
       "      <td>0</td>\n",
       "      <td>2</td>\n",
       "    </tr>\n",
       "    <tr>\n",
       "      <th>2</th>\n",
       "      <td>2</td>\n",
       "      <td>23</td>\n",
       "      <td>1</td>\n",
       "      <td>3</td>\n",
       "    </tr>\n",
       "    <tr>\n",
       "      <th>3</th>\n",
       "      <td>3</td>\n",
       "      <td>24</td>\n",
       "      <td>1</td>\n",
       "      <td>4</td>\n",
       "    </tr>\n",
       "    <tr>\n",
       "      <th>4</th>\n",
       "      <td>4</td>\n",
       "      <td>33</td>\n",
       "      <td>0</td>\n",
       "      <td>5</td>\n",
       "    </tr>\n",
       "  </tbody>\n",
       "</table>\n",
       "</div>\n",
       "      <button class=\"colab-df-convert\" onclick=\"convertToInteractive('df-a12ae05e-3fb3-4404-a094-2b92d031d35a')\"\n",
       "              title=\"Convert this dataframe to an interactive table.\"\n",
       "              style=\"display:none;\">\n",
       "        \n",
       "  <svg xmlns=\"http://www.w3.org/2000/svg\" height=\"24px\"viewBox=\"0 0 24 24\"\n",
       "       width=\"24px\">\n",
       "    <path d=\"M0 0h24v24H0V0z\" fill=\"none\"/>\n",
       "    <path d=\"M18.56 5.44l.94 2.06.94-2.06 2.06-.94-2.06-.94-.94-2.06-.94 2.06-2.06.94zm-11 1L8.5 8.5l.94-2.06 2.06-.94-2.06-.94L8.5 2.5l-.94 2.06-2.06.94zm10 10l.94 2.06.94-2.06 2.06-.94-2.06-.94-.94-2.06-.94 2.06-2.06.94z\"/><path d=\"M17.41 7.96l-1.37-1.37c-.4-.4-.92-.59-1.43-.59-.52 0-1.04.2-1.43.59L10.3 9.45l-7.72 7.72c-.78.78-.78 2.05 0 2.83L4 21.41c.39.39.9.59 1.41.59.51 0 1.02-.2 1.41-.59l7.78-7.78 2.81-2.81c.8-.78.8-2.07 0-2.86zM5.41 20L4 18.59l7.72-7.72 1.47 1.35L5.41 20z\"/>\n",
       "  </svg>\n",
       "      </button>\n",
       "      \n",
       "  <style>\n",
       "    .colab-df-container {\n",
       "      display:flex;\n",
       "      flex-wrap:wrap;\n",
       "      gap: 12px;\n",
       "    }\n",
       "\n",
       "    .colab-df-convert {\n",
       "      background-color: #E8F0FE;\n",
       "      border: none;\n",
       "      border-radius: 50%;\n",
       "      cursor: pointer;\n",
       "      display: none;\n",
       "      fill: #1967D2;\n",
       "      height: 32px;\n",
       "      padding: 0 0 0 0;\n",
       "      width: 32px;\n",
       "    }\n",
       "\n",
       "    .colab-df-convert:hover {\n",
       "      background-color: #E2EBFA;\n",
       "      box-shadow: 0px 1px 2px rgba(60, 64, 67, 0.3), 0px 1px 3px 1px rgba(60, 64, 67, 0.15);\n",
       "      fill: #174EA6;\n",
       "    }\n",
       "\n",
       "    [theme=dark] .colab-df-convert {\n",
       "      background-color: #3B4455;\n",
       "      fill: #D2E3FC;\n",
       "    }\n",
       "\n",
       "    [theme=dark] .colab-df-convert:hover {\n",
       "      background-color: #434B5C;\n",
       "      box-shadow: 0px 1px 3px 1px rgba(0, 0, 0, 0.15);\n",
       "      filter: drop-shadow(0px 1px 2px rgba(0, 0, 0, 0.3));\n",
       "      fill: #FFFFFF;\n",
       "    }\n",
       "  </style>\n",
       "\n",
       "      <script>\n",
       "        const buttonEl =\n",
       "          document.querySelector('#df-a12ae05e-3fb3-4404-a094-2b92d031d35a button.colab-df-convert');\n",
       "        buttonEl.style.display =\n",
       "          google.colab.kernel.accessAllowed ? 'block' : 'none';\n",
       "\n",
       "        async function convertToInteractive(key) {\n",
       "          const element = document.querySelector('#df-a12ae05e-3fb3-4404-a094-2b92d031d35a');\n",
       "          const dataTable =\n",
       "            await google.colab.kernel.invokeFunction('convertToInteractive',\n",
       "                                                     [key], {});\n",
       "          if (!dataTable) return;\n",
       "\n",
       "          const docLinkHtml = 'Like what you see? Visit the ' +\n",
       "            '<a target=\"_blank\" href=https://colab.research.google.com/notebooks/data_table.ipynb>data table notebook</a>'\n",
       "            + ' to learn more about interactive tables.';\n",
       "          element.innerHTML = '';\n",
       "          dataTable['output_type'] = 'display_data';\n",
       "          await google.colab.output.renderOutput(dataTable, element);\n",
       "          const docLink = document.createElement('div');\n",
       "          docLink.innerHTML = docLinkHtml;\n",
       "          element.appendChild(docLink);\n",
       "        }\n",
       "      </script>\n",
       "    </div>\n",
       "  </div>\n",
       "  "
      ],
      "text/plain": [
       "   user_id  age  is_male  orig_user_id\n",
       "0        0   24        1             1\n",
       "1        1   53        0             2\n",
       "2        2   23        1             3\n",
       "3        3   24        1             4\n",
       "4        4   33        0             5"
      ]
     },
     "execution_count": 23,
     "metadata": {},
     "output_type": "execute_result"
    }
   ],
   "source": [
    "data_male = pd.read_csv('user_info.csv')\n",
    "data_male.head()"
   ]
  },
  {
   "cell_type": "code",
   "execution_count": 23,
   "metadata": {
    "id": "4pWyAMPjFKAA"
   },
   "outputs": [],
   "source": []
  },
  {
   "cell_type": "code",
   "execution_count": 24,
   "metadata": {
    "id": "s7e_3BBsHpWO"
   },
   "outputs": [],
   "source": [
    "y_true = data_male.is_male.values"
   ]
  },
  {
   "cell_type": "code",
   "execution_count": 25,
   "metadata": {
    "id": "1Qj0pYRj6yMD"
   },
   "outputs": [],
   "source": [
    "data_male['age']\n",
    "l=list(data_male['age'])\n",
    "l=np.array(l)\n",
    "l=l.reshape(-1,1)"
   ]
  },
  {
   "cell_type": "code",
   "execution_count": 26,
   "metadata": {
    "id": "M3K5ZHmSHpWO"
   },
   "outputs": [],
   "source": [
    "from sklearn.tree import DecisionTreeClassifier\n",
    "clf = DecisionTreeClassifier()\n",
    "X=np.hstack((U,l))\n",
    "clf.fit(X, y_true)\n",
    "y_pred = clf.predict(X)"
   ]
  },
  {
   "cell_type": "code",
   "execution_count": 27,
   "metadata": {
    "colab": {
     "base_uri": "https://localhost:8080/"
    },
    "id": "ltfhTwKXZGlO",
    "outputId": "283f4b01-1b38-4ba0-bfc8-c358f6dde1da"
   },
   "outputs": [
    {
     "name": "stdout",
     "output_type": "stream",
     "text": [
      "accuracy: 1.0\n"
     ]
    }
   ],
   "source": [
    "from sklearn.metrics import roc_auc_score\n",
    "acc = roc_auc_score(y_true, y_pred)\n",
    "print('accuracy: {0}'.format(acc))"
   ]
  },
  {
   "cell_type": "code",
   "execution_count": 28,
   "metadata": {
    "colab": {
     "base_uri": "https://localhost:8080/",
     "height": 404
    },
    "id": "O3S2r3uuZMKE",
    "outputId": "73150035-1740-4950-acdb-90720c0eb89b"
   },
   "outputs": [
    {
     "data": {
      "image/png": "[encoded data removed]",
      "text/plain": [
       "<Figure size 576x432 with 2 Axes>"
      ]
     },
     "metadata": {
      "needs_background": "light"
     },
     "output_type": "display_data"
    }
   ],
   "source": [
    "from sklearn.metrics import confusion_matrix\n",
    "from matplotlib import pyplot as plt\n",
    "import seaborn as sns\n",
    "\n",
    "c_matrix= confusion_matrix(y_true, y_pred)\n",
    "\n",
    "df_cm = pd.DataFrame(c_matrix, index = [i for i in ['not male', 'male']], \n",
    "                     columns = [i for i in ['not male', 'male']])\n",
    "plt.figure(figsize = (8,6))\n",
    "sns.heatmap(df_cm, annot=True)\n",
    "plt.title('Confusion Matrix')\n",
    "plt.xlabel('Predicted')\n",
    "plt.ylabel('Actual')\n",
    "plt.show()"
   ]
  },
  {
   "cell_type": "markdown",
   "metadata": {
    "id": "ecWrczH0CMKo"
   },
   "source": [
    "# Observation Decision Tree Model\n",
    "### The model is highly accurate it is able to predict accurately male and non male members in the dataset in decision tree. I think this is because of deafault values of the hyperparameters i.e it can grow upto full depth and min_split is 2 only."
   ]
  },
  {
   "cell_type": "code",
   "execution_count": 29,
   "metadata": {
    "id": "pa-3JMpiFyk-"
   },
   "outputs": [],
   "source": [
    "from sklearn.svm import SVC\n",
    "\n",
    "clf = SVC(gamma='auto')\n",
    "clf.fit(U, y_true)\n",
    "y_pred = clf.predict(U)"
   ]
  },
  {
   "cell_type": "code",
   "execution_count": 30,
   "metadata": {
    "colab": {
     "base_uri": "https://localhost:8080/"
    },
    "id": "jFerFmReF6EA",
    "outputId": "bb36efcd-7169-4450-b0c5-b2b11629ec3d"
   },
   "outputs": [
    {
     "name": "stdout",
     "output_type": "stream",
     "text": [
      "accuracy: 0.5\n"
     ]
    }
   ],
   "source": [
    "from sklearn.metrics import roc_auc_score\n",
    "acc = roc_auc_score(y_true, y_pred)\n",
    "print('accuracy: {0}'.format(acc))"
   ]
  },
  {
   "cell_type": "code",
   "execution_count": 31,
   "metadata": {
    "colab": {
     "base_uri": "https://localhost:8080/",
     "height": 404
    },
    "id": "vxwmC5sDF-Oi",
    "outputId": "1c6bfa66-0771-47f4-af93-169b0887cc2b"
   },
   "outputs": [
    {
     "data": {
      "image/png": "[encoded data removed]",
      "text/plain": [
       "<Figure size 576x432 with 2 Axes>"
      ]
     },
     "metadata": {
      "needs_background": "light"
     },
     "output_type": "display_data"
    }
   ],
   "source": [
    "from sklearn.metrics import confusion_matrix\n",
    "from matplotlib import pyplot as plt\n",
    "import seaborn as sns\n",
    "\n",
    "c_matrix= confusion_matrix(y_true, y_pred)\n",
    "\n",
    "df_cm = pd.DataFrame(c_matrix, index = [i for i in ['not male', 'male']], \n",
    "                     columns = [i for i in ['not male', 'male']])\n",
    "plt.figure(figsize = (8,6))\n",
    "sns.heatmap(df_cm, annot=True)\n",
    "plt.title('Confusion Matrix')\n",
    "plt.xlabel('Predicted')\n",
    "plt.ylabel('Actual')\n",
    "plt.show()"
   ]
  },
  {
   "cell_type": "markdown",
   "metadata": {
    "id": "1lW55K2XHHcv"
   },
   "source": [
    "# Observation SVC Model\n",
    "### From the above SVC model we see that the model is highly inaccurate as it is not able to predict no male user.\n",
    "### There is no relation between U matrix and gender prediction."
   ]
  }
 ],
 "metadata": {
  "colab": {
   "collapsed_sections": [],
   "name": "Recommendation_system_assignment_final.ipynb",
   "provenance": []
  },
  "kernelspec": {
   "display_name": "Python 3",
   "language": "python",
   "name": "python3"
  },
  "language_info": {
   "codemirror_mode": {
    "name": "ipython",
    "version": 3
   },
   "file_extension": ".py",
   "mimetype": "text/x-python",
   "name": "python",
   "nbconvert_exporter": "python",
   "pygments_lexer": "ipython3",
   "version": "3.6.5"
  }
 },
 "nbformat": 4,
 "nbformat_minor": 1
}
